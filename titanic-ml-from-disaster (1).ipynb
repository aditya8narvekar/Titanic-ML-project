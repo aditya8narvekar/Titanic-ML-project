{
 "cells": [
  {
   "cell_type": "markdown",
   "id": "b58b933d",
   "metadata": {
    "papermill": {
     "duration": 0.005457,
     "end_time": "2025-06-29T15:33:01.146951",
     "exception": false,
     "start_time": "2025-06-29T15:33:01.141494",
     "status": "completed"
    },
    "tags": []
   },
   "source": [
    "## Loading the Datasets"
   ]
  },
  {
   "cell_type": "code",
   "execution_count": 1,
   "id": "18bbe187",
   "metadata": {
    "_cell_guid": "b1076dfc-b9ad-4769-8c92-a6c4dae69d19",
    "_uuid": "8f2839f25d086af736a60e9eeb907d3b93b6e0e5",
    "execution": {
     "iopub.execute_input": "2025-06-29T15:33:01.157628Z",
     "iopub.status.busy": "2025-06-29T15:33:01.157340Z",
     "iopub.status.idle": "2025-06-29T15:33:04.989805Z",
     "shell.execute_reply": "2025-06-29T15:33:04.988802Z"
    },
    "papermill": {
     "duration": 3.839581,
     "end_time": "2025-06-29T15:33:04.991345",
     "exception": false,
     "start_time": "2025-06-29T15:33:01.151764",
     "status": "completed"
    },
    "tags": []
   },
   "outputs": [
    {
     "name": "stdout",
     "output_type": "stream",
     "text": [
      "Setup Complete\n"
     ]
    }
   ],
   "source": [
    "# data analysis\n",
    "import numpy as np\n",
    "import pandas as pd\n",
    "\n",
    "# data visualization\n",
    "pd.plotting.register_matplotlib_converters()\n",
    "import matplotlib.pyplot as plt\n",
    "%matplotlib inline\n",
    "import seaborn as sns\n",
    "\n",
    "print(\"Setup Complete\")"
   ]
  },
  {
   "cell_type": "code",
   "execution_count": 2,
   "id": "933cd257",
   "metadata": {
    "execution": {
     "iopub.execute_input": "2025-06-29T15:33:05.002579Z",
     "iopub.status.busy": "2025-06-29T15:33:05.001637Z",
     "iopub.status.idle": "2025-06-29T15:33:05.062035Z",
     "shell.execute_reply": "2025-06-29T15:33:05.060943Z"
    },
    "papermill": {
     "duration": 0.06741,
     "end_time": "2025-06-29T15:33:05.063516",
     "exception": false,
     "start_time": "2025-06-29T15:33:04.996106",
     "status": "completed"
    },
    "tags": []
   },
   "outputs": [
    {
     "data": {
      "text/html": [
       "<div>\n",
       "<style scoped>\n",
       "    .dataframe tbody tr th:only-of-type {\n",
       "        vertical-align: middle;\n",
       "    }\n",
       "\n",
       "    .dataframe tbody tr th {\n",
       "        vertical-align: top;\n",
       "    }\n",
       "\n",
       "    .dataframe thead th {\n",
       "        text-align: right;\n",
       "    }\n",
       "</style>\n",
       "<table border=\"1\" class=\"dataframe\">\n",
       "  <thead>\n",
       "    <tr style=\"text-align: right;\">\n",
       "      <th></th>\n",
       "      <th>Survived</th>\n",
       "      <th>Pclass</th>\n",
       "      <th>Name</th>\n",
       "      <th>Sex</th>\n",
       "      <th>Age</th>\n",
       "      <th>SibSp</th>\n",
       "      <th>Parch</th>\n",
       "      <th>Ticket</th>\n",
       "      <th>Fare</th>\n",
       "      <th>Cabin</th>\n",
       "      <th>Embarked</th>\n",
       "    </tr>\n",
       "    <tr>\n",
       "      <th>PassengerId</th>\n",
       "      <th></th>\n",
       "      <th></th>\n",
       "      <th></th>\n",
       "      <th></th>\n",
       "      <th></th>\n",
       "      <th></th>\n",
       "      <th></th>\n",
       "      <th></th>\n",
       "      <th></th>\n",
       "      <th></th>\n",
       "      <th></th>\n",
       "    </tr>\n",
       "  </thead>\n",
       "  <tbody>\n",
       "    <tr>\n",
       "      <th>1</th>\n",
       "      <td>0</td>\n",
       "      <td>3</td>\n",
       "      <td>Braund, Mr. Owen Harris</td>\n",
       "      <td>male</td>\n",
       "      <td>22.0</td>\n",
       "      <td>1</td>\n",
       "      <td>0</td>\n",
       "      <td>A/5 21171</td>\n",
       "      <td>7.2500</td>\n",
       "      <td>NaN</td>\n",
       "      <td>S</td>\n",
       "    </tr>\n",
       "    <tr>\n",
       "      <th>2</th>\n",
       "      <td>1</td>\n",
       "      <td>1</td>\n",
       "      <td>Cumings, Mrs. John Bradley (Florence Briggs Th...</td>\n",
       "      <td>female</td>\n",
       "      <td>38.0</td>\n",
       "      <td>1</td>\n",
       "      <td>0</td>\n",
       "      <td>PC 17599</td>\n",
       "      <td>71.2833</td>\n",
       "      <td>C85</td>\n",
       "      <td>C</td>\n",
       "    </tr>\n",
       "    <tr>\n",
       "      <th>3</th>\n",
       "      <td>1</td>\n",
       "      <td>3</td>\n",
       "      <td>Heikkinen, Miss. Laina</td>\n",
       "      <td>female</td>\n",
       "      <td>26.0</td>\n",
       "      <td>0</td>\n",
       "      <td>0</td>\n",
       "      <td>STON/O2. 3101282</td>\n",
       "      <td>7.9250</td>\n",
       "      <td>NaN</td>\n",
       "      <td>S</td>\n",
       "    </tr>\n",
       "    <tr>\n",
       "      <th>4</th>\n",
       "      <td>1</td>\n",
       "      <td>1</td>\n",
       "      <td>Futrelle, Mrs. Jacques Heath (Lily May Peel)</td>\n",
       "      <td>female</td>\n",
       "      <td>35.0</td>\n",
       "      <td>1</td>\n",
       "      <td>0</td>\n",
       "      <td>113803</td>\n",
       "      <td>53.1000</td>\n",
       "      <td>C123</td>\n",
       "      <td>S</td>\n",
       "    </tr>\n",
       "    <tr>\n",
       "      <th>5</th>\n",
       "      <td>0</td>\n",
       "      <td>3</td>\n",
       "      <td>Allen, Mr. William Henry</td>\n",
       "      <td>male</td>\n",
       "      <td>35.0</td>\n",
       "      <td>0</td>\n",
       "      <td>0</td>\n",
       "      <td>373450</td>\n",
       "      <td>8.0500</td>\n",
       "      <td>NaN</td>\n",
       "      <td>S</td>\n",
       "    </tr>\n",
       "  </tbody>\n",
       "</table>\n",
       "</div>"
      ],
      "text/plain": [
       "             Survived  Pclass  \\\n",
       "PassengerId                     \n",
       "1                   0       3   \n",
       "2                   1       1   \n",
       "3                   1       3   \n",
       "4                   1       1   \n",
       "5                   0       3   \n",
       "\n",
       "                                                          Name     Sex   Age  \\\n",
       "PassengerId                                                                    \n",
       "1                                      Braund, Mr. Owen Harris    male  22.0   \n",
       "2            Cumings, Mrs. John Bradley (Florence Briggs Th...  female  38.0   \n",
       "3                                       Heikkinen, Miss. Laina  female  26.0   \n",
       "4                 Futrelle, Mrs. Jacques Heath (Lily May Peel)  female  35.0   \n",
       "5                                     Allen, Mr. William Henry    male  35.0   \n",
       "\n",
       "             SibSp  Parch            Ticket     Fare Cabin Embarked  \n",
       "PassengerId                                                          \n",
       "1                1      0         A/5 21171   7.2500   NaN        S  \n",
       "2                1      0          PC 17599  71.2833   C85        C  \n",
       "3                0      0  STON/O2. 3101282   7.9250   NaN        S  \n",
       "4                1      0            113803  53.1000  C123        S  \n",
       "5                0      0            373450   8.0500   NaN        S  "
      ]
     },
     "execution_count": 2,
     "metadata": {},
     "output_type": "execute_result"
    }
   ],
   "source": [
    "# loading Data\n",
    "train_file_path = r\"/kaggle/input/titanic/train.csv\"\n",
    "test_file_path = r\"/kaggle/input/titanic/test.csv\"\n",
    "\n",
    "train_data = pd.read_csv(train_file_path, index_col='PassengerId')\n",
    "test_data = pd.read_csv(test_file_path, index_col='PassengerId')\n",
    "\n",
    "train_data.head()"
   ]
  },
  {
   "cell_type": "markdown",
   "id": "2c35667d",
   "metadata": {
    "papermill": {
     "duration": 0.004806,
     "end_time": "2025-06-29T15:33:05.073345",
     "exception": false,
     "start_time": "2025-06-29T15:33:05.068539",
     "status": "completed"
    },
    "tags": []
   },
   "source": [
    "## Understanding the Data"
   ]
  },
  {
   "cell_type": "code",
   "execution_count": 3,
   "id": "c42df7b2",
   "metadata": {
    "execution": {
     "iopub.execute_input": "2025-06-29T15:33:05.084847Z",
     "iopub.status.busy": "2025-06-29T15:33:05.084474Z",
     "iopub.status.idle": "2025-06-29T15:33:05.103793Z",
     "shell.execute_reply": "2025-06-29T15:33:05.102790Z"
    },
    "papermill": {
     "duration": 0.026861,
     "end_time": "2025-06-29T15:33:05.105447",
     "exception": false,
     "start_time": "2025-06-29T15:33:05.078586",
     "status": "completed"
    },
    "tags": []
   },
   "outputs": [
    {
     "name": "stdout",
     "output_type": "stream",
     "text": [
      "<class 'pandas.core.frame.DataFrame'>\n",
      "Index: 891 entries, 1 to 891\n",
      "Data columns (total 11 columns):\n",
      " #   Column    Non-Null Count  Dtype  \n",
      "---  ------    --------------  -----  \n",
      " 0   Survived  891 non-null    int64  \n",
      " 1   Pclass    891 non-null    int64  \n",
      " 2   Name      891 non-null    object \n",
      " 3   Sex       891 non-null    object \n",
      " 4   Age       714 non-null    float64\n",
      " 5   SibSp     891 non-null    int64  \n",
      " 6   Parch     891 non-null    int64  \n",
      " 7   Ticket    891 non-null    object \n",
      " 8   Fare      891 non-null    float64\n",
      " 9   Cabin     204 non-null    object \n",
      " 10  Embarked  889 non-null    object \n",
      "dtypes: float64(2), int64(4), object(5)\n",
      "memory usage: 83.5+ KB\n"
     ]
    }
   ],
   "source": [
    "train_data.info()\n",
    "# this will show us the columns with null values in them"
   ]
  },
  {
   "cell_type": "code",
   "execution_count": 4,
   "id": "0a90c519",
   "metadata": {
    "execution": {
     "iopub.execute_input": "2025-06-29T15:33:05.117368Z",
     "iopub.status.busy": "2025-06-29T15:33:05.117079Z",
     "iopub.status.idle": "2025-06-29T15:33:05.147782Z",
     "shell.execute_reply": "2025-06-29T15:33:05.146966Z"
    },
    "papermill": {
     "duration": 0.038839,
     "end_time": "2025-06-29T15:33:05.149341",
     "exception": false,
     "start_time": "2025-06-29T15:33:05.110502",
     "status": "completed"
    },
    "tags": []
   },
   "outputs": [
    {
     "data": {
      "text/html": [
       "<div>\n",
       "<style scoped>\n",
       "    .dataframe tbody tr th:only-of-type {\n",
       "        vertical-align: middle;\n",
       "    }\n",
       "\n",
       "    .dataframe tbody tr th {\n",
       "        vertical-align: top;\n",
       "    }\n",
       "\n",
       "    .dataframe thead th {\n",
       "        text-align: right;\n",
       "    }\n",
       "</style>\n",
       "<table border=\"1\" class=\"dataframe\">\n",
       "  <thead>\n",
       "    <tr style=\"text-align: right;\">\n",
       "      <th></th>\n",
       "      <th>Survived</th>\n",
       "      <th>Pclass</th>\n",
       "      <th>Age</th>\n",
       "      <th>SibSp</th>\n",
       "      <th>Parch</th>\n",
       "      <th>Fare</th>\n",
       "    </tr>\n",
       "  </thead>\n",
       "  <tbody>\n",
       "    <tr>\n",
       "      <th>count</th>\n",
       "      <td>891.000000</td>\n",
       "      <td>891.000000</td>\n",
       "      <td>714.000000</td>\n",
       "      <td>891.000000</td>\n",
       "      <td>891.000000</td>\n",
       "      <td>891.000000</td>\n",
       "    </tr>\n",
       "    <tr>\n",
       "      <th>mean</th>\n",
       "      <td>0.383838</td>\n",
       "      <td>2.308642</td>\n",
       "      <td>29.699118</td>\n",
       "      <td>0.523008</td>\n",
       "      <td>0.381594</td>\n",
       "      <td>32.204208</td>\n",
       "    </tr>\n",
       "    <tr>\n",
       "      <th>std</th>\n",
       "      <td>0.486592</td>\n",
       "      <td>0.836071</td>\n",
       "      <td>14.526497</td>\n",
       "      <td>1.102743</td>\n",
       "      <td>0.806057</td>\n",
       "      <td>49.693429</td>\n",
       "    </tr>\n",
       "    <tr>\n",
       "      <th>min</th>\n",
       "      <td>0.000000</td>\n",
       "      <td>1.000000</td>\n",
       "      <td>0.420000</td>\n",
       "      <td>0.000000</td>\n",
       "      <td>0.000000</td>\n",
       "      <td>0.000000</td>\n",
       "    </tr>\n",
       "    <tr>\n",
       "      <th>25%</th>\n",
       "      <td>0.000000</td>\n",
       "      <td>2.000000</td>\n",
       "      <td>20.125000</td>\n",
       "      <td>0.000000</td>\n",
       "      <td>0.000000</td>\n",
       "      <td>7.910400</td>\n",
       "    </tr>\n",
       "    <tr>\n",
       "      <th>50%</th>\n",
       "      <td>0.000000</td>\n",
       "      <td>3.000000</td>\n",
       "      <td>28.000000</td>\n",
       "      <td>0.000000</td>\n",
       "      <td>0.000000</td>\n",
       "      <td>14.454200</td>\n",
       "    </tr>\n",
       "    <tr>\n",
       "      <th>75%</th>\n",
       "      <td>1.000000</td>\n",
       "      <td>3.000000</td>\n",
       "      <td>38.000000</td>\n",
       "      <td>1.000000</td>\n",
       "      <td>0.000000</td>\n",
       "      <td>31.000000</td>\n",
       "    </tr>\n",
       "    <tr>\n",
       "      <th>max</th>\n",
       "      <td>1.000000</td>\n",
       "      <td>3.000000</td>\n",
       "      <td>80.000000</td>\n",
       "      <td>8.000000</td>\n",
       "      <td>6.000000</td>\n",
       "      <td>512.329200</td>\n",
       "    </tr>\n",
       "  </tbody>\n",
       "</table>\n",
       "</div>"
      ],
      "text/plain": [
       "         Survived      Pclass         Age       SibSp       Parch        Fare\n",
       "count  891.000000  891.000000  714.000000  891.000000  891.000000  891.000000\n",
       "mean     0.383838    2.308642   29.699118    0.523008    0.381594   32.204208\n",
       "std      0.486592    0.836071   14.526497    1.102743    0.806057   49.693429\n",
       "min      0.000000    1.000000    0.420000    0.000000    0.000000    0.000000\n",
       "25%      0.000000    2.000000   20.125000    0.000000    0.000000    7.910400\n",
       "50%      0.000000    3.000000   28.000000    0.000000    0.000000   14.454200\n",
       "75%      1.000000    3.000000   38.000000    1.000000    0.000000   31.000000\n",
       "max      1.000000    3.000000   80.000000    8.000000    6.000000  512.329200"
      ]
     },
     "execution_count": 4,
     "metadata": {},
     "output_type": "execute_result"
    }
   ],
   "source": [
    "train_data.describe()\n",
    "# this gives statistical info about the numerical data"
   ]
  },
  {
   "cell_type": "code",
   "execution_count": 5,
   "id": "693bef95",
   "metadata": {
    "execution": {
     "iopub.execute_input": "2025-06-29T15:33:05.161174Z",
     "iopub.status.busy": "2025-06-29T15:33:05.160877Z",
     "iopub.status.idle": "2025-06-29T15:33:05.178870Z",
     "shell.execute_reply": "2025-06-29T15:33:05.178030Z"
    },
    "papermill": {
     "duration": 0.025726,
     "end_time": "2025-06-29T15:33:05.180278",
     "exception": false,
     "start_time": "2025-06-29T15:33:05.154552",
     "status": "completed"
    },
    "tags": []
   },
   "outputs": [
    {
     "data": {
      "text/html": [
       "<div>\n",
       "<style scoped>\n",
       "    .dataframe tbody tr th:only-of-type {\n",
       "        vertical-align: middle;\n",
       "    }\n",
       "\n",
       "    .dataframe tbody tr th {\n",
       "        vertical-align: top;\n",
       "    }\n",
       "\n",
       "    .dataframe thead th {\n",
       "        text-align: right;\n",
       "    }\n",
       "</style>\n",
       "<table border=\"1\" class=\"dataframe\">\n",
       "  <thead>\n",
       "    <tr style=\"text-align: right;\">\n",
       "      <th></th>\n",
       "      <th>Name</th>\n",
       "      <th>Sex</th>\n",
       "      <th>Ticket</th>\n",
       "      <th>Cabin</th>\n",
       "      <th>Embarked</th>\n",
       "    </tr>\n",
       "  </thead>\n",
       "  <tbody>\n",
       "    <tr>\n",
       "      <th>count</th>\n",
       "      <td>891</td>\n",
       "      <td>891</td>\n",
       "      <td>891</td>\n",
       "      <td>204</td>\n",
       "      <td>889</td>\n",
       "    </tr>\n",
       "    <tr>\n",
       "      <th>unique</th>\n",
       "      <td>891</td>\n",
       "      <td>2</td>\n",
       "      <td>681</td>\n",
       "      <td>147</td>\n",
       "      <td>3</td>\n",
       "    </tr>\n",
       "    <tr>\n",
       "      <th>top</th>\n",
       "      <td>Braund, Mr. Owen Harris</td>\n",
       "      <td>male</td>\n",
       "      <td>347082</td>\n",
       "      <td>B96 B98</td>\n",
       "      <td>S</td>\n",
       "    </tr>\n",
       "    <tr>\n",
       "      <th>freq</th>\n",
       "      <td>1</td>\n",
       "      <td>577</td>\n",
       "      <td>7</td>\n",
       "      <td>4</td>\n",
       "      <td>644</td>\n",
       "    </tr>\n",
       "  </tbody>\n",
       "</table>\n",
       "</div>"
      ],
      "text/plain": [
       "                           Name   Sex  Ticket    Cabin Embarked\n",
       "count                       891   891     891      204      889\n",
       "unique                      891     2     681      147        3\n",
       "top     Braund, Mr. Owen Harris  male  347082  B96 B98        S\n",
       "freq                          1   577       7        4      644"
      ]
     },
     "execution_count": 5,
     "metadata": {},
     "output_type": "execute_result"
    }
   ],
   "source": [
    "train_data.describe(include=['O'])\n",
    "# same, but for categorical data"
   ]
  },
  {
   "cell_type": "markdown",
   "id": "6b8fa81d",
   "metadata": {
    "papermill": {
     "duration": 0.005457,
     "end_time": "2025-06-29T15:33:05.190981",
     "exception": false,
     "start_time": "2025-06-29T15:33:05.185524",
     "status": "completed"
    },
    "tags": []
   },
   "source": [
    "## Handling Missing Data\n",
    "(for now we'll just drop all columns with missing data)"
   ]
  },
  {
   "cell_type": "code",
   "execution_count": 6,
   "id": "d1545b07",
   "metadata": {
    "execution": {
     "iopub.execute_input": "2025-06-29T15:33:05.202329Z",
     "iopub.status.busy": "2025-06-29T15:33:05.202026Z",
     "iopub.status.idle": "2025-06-29T15:33:05.209459Z",
     "shell.execute_reply": "2025-06-29T15:33:05.208824Z"
    },
    "papermill": {
     "duration": 0.014845,
     "end_time": "2025-06-29T15:33:05.210902",
     "exception": false,
     "start_time": "2025-06-29T15:33:05.196057",
     "status": "completed"
    },
    "tags": []
   },
   "outputs": [],
   "source": [
    "# first we'll delete the columns that are irrelevant to us\n",
    "train_data = train_data.drop(columns=['Cabin','Name','Ticket'])"
   ]
  },
  {
   "cell_type": "code",
   "execution_count": 7,
   "id": "8f061da8",
   "metadata": {
    "execution": {
     "iopub.execute_input": "2025-06-29T15:33:05.222913Z",
     "iopub.status.busy": "2025-06-29T15:33:05.222544Z",
     "iopub.status.idle": "2025-06-29T15:33:05.233809Z",
     "shell.execute_reply": "2025-06-29T15:33:05.233057Z"
    },
    "papermill": {
     "duration": 0.018625,
     "end_time": "2025-06-29T15:33:05.235281",
     "exception": false,
     "start_time": "2025-06-29T15:33:05.216656",
     "status": "completed"
    },
    "tags": []
   },
   "outputs": [
    {
     "data": {
      "text/html": [
       "<div>\n",
       "<style scoped>\n",
       "    .dataframe tbody tr th:only-of-type {\n",
       "        vertical-align: middle;\n",
       "    }\n",
       "\n",
       "    .dataframe tbody tr th {\n",
       "        vertical-align: top;\n",
       "    }\n",
       "\n",
       "    .dataframe thead th {\n",
       "        text-align: right;\n",
       "    }\n",
       "</style>\n",
       "<table border=\"1\" class=\"dataframe\">\n",
       "  <thead>\n",
       "    <tr style=\"text-align: right;\">\n",
       "      <th></th>\n",
       "      <th>Survived</th>\n",
       "      <th>Pclass</th>\n",
       "      <th>Sex</th>\n",
       "      <th>Age</th>\n",
       "      <th>SibSp</th>\n",
       "      <th>Parch</th>\n",
       "      <th>Fare</th>\n",
       "      <th>Embarked</th>\n",
       "    </tr>\n",
       "    <tr>\n",
       "      <th>PassengerId</th>\n",
       "      <th></th>\n",
       "      <th></th>\n",
       "      <th></th>\n",
       "      <th></th>\n",
       "      <th></th>\n",
       "      <th></th>\n",
       "      <th></th>\n",
       "      <th></th>\n",
       "    </tr>\n",
       "  </thead>\n",
       "  <tbody>\n",
       "    <tr>\n",
       "      <th>1</th>\n",
       "      <td>0</td>\n",
       "      <td>3</td>\n",
       "      <td>male</td>\n",
       "      <td>22.0</td>\n",
       "      <td>1</td>\n",
       "      <td>0</td>\n",
       "      <td>7.2500</td>\n",
       "      <td>S</td>\n",
       "    </tr>\n",
       "    <tr>\n",
       "      <th>2</th>\n",
       "      <td>1</td>\n",
       "      <td>1</td>\n",
       "      <td>female</td>\n",
       "      <td>38.0</td>\n",
       "      <td>1</td>\n",
       "      <td>0</td>\n",
       "      <td>71.2833</td>\n",
       "      <td>C</td>\n",
       "    </tr>\n",
       "    <tr>\n",
       "      <th>3</th>\n",
       "      <td>1</td>\n",
       "      <td>3</td>\n",
       "      <td>female</td>\n",
       "      <td>26.0</td>\n",
       "      <td>0</td>\n",
       "      <td>0</td>\n",
       "      <td>7.9250</td>\n",
       "      <td>S</td>\n",
       "    </tr>\n",
       "    <tr>\n",
       "      <th>4</th>\n",
       "      <td>1</td>\n",
       "      <td>1</td>\n",
       "      <td>female</td>\n",
       "      <td>35.0</td>\n",
       "      <td>1</td>\n",
       "      <td>0</td>\n",
       "      <td>53.1000</td>\n",
       "      <td>S</td>\n",
       "    </tr>\n",
       "    <tr>\n",
       "      <th>5</th>\n",
       "      <td>0</td>\n",
       "      <td>3</td>\n",
       "      <td>male</td>\n",
       "      <td>35.0</td>\n",
       "      <td>0</td>\n",
       "      <td>0</td>\n",
       "      <td>8.0500</td>\n",
       "      <td>S</td>\n",
       "    </tr>\n",
       "  </tbody>\n",
       "</table>\n",
       "</div>"
      ],
      "text/plain": [
       "             Survived  Pclass     Sex   Age  SibSp  Parch     Fare Embarked\n",
       "PassengerId                                                                \n",
       "1                   0       3    male  22.0      1      0   7.2500        S\n",
       "2                   1       1  female  38.0      1      0  71.2833        C\n",
       "3                   1       3  female  26.0      0      0   7.9250        S\n",
       "4                   1       1  female  35.0      1      0  53.1000        S\n",
       "5                   0       3    male  35.0      0      0   8.0500        S"
      ]
     },
     "execution_count": 7,
     "metadata": {},
     "output_type": "execute_result"
    }
   ],
   "source": [
    "train_data.head()"
   ]
  },
  {
   "cell_type": "code",
   "execution_count": 8,
   "id": "fceb7eb2",
   "metadata": {
    "execution": {
     "iopub.execute_input": "2025-06-29T15:33:05.247328Z",
     "iopub.status.busy": "2025-06-29T15:33:05.247017Z",
     "iopub.status.idle": "2025-06-29T15:33:05.252402Z",
     "shell.execute_reply": "2025-06-29T15:33:05.251417Z"
    },
    "papermill": {
     "duration": 0.013028,
     "end_time": "2025-06-29T15:33:05.253795",
     "exception": false,
     "start_time": "2025-06-29T15:33:05.240767",
     "status": "completed"
    },
    "tags": []
   },
   "outputs": [],
   "source": [
    "#and we oughta do the same for the testing dataset for integrity\n",
    "test_data = test_data.drop(columns=['Cabin','Name','Ticket'])"
   ]
  },
  {
   "cell_type": "code",
   "execution_count": 9,
   "id": "d050da3d",
   "metadata": {
    "execution": {
     "iopub.execute_input": "2025-06-29T15:33:05.265778Z",
     "iopub.status.busy": "2025-06-29T15:33:05.265457Z",
     "iopub.status.idle": "2025-06-29T15:33:05.270836Z",
     "shell.execute_reply": "2025-06-29T15:33:05.269966Z"
    },
    "papermill": {
     "duration": 0.013026,
     "end_time": "2025-06-29T15:33:05.272348",
     "exception": false,
     "start_time": "2025-06-29T15:33:05.259322",
     "status": "completed"
    },
    "tags": []
   },
   "outputs": [],
   "source": [
    "# NOW we'll replace the missing Ages with the median age..\n",
    "train_data['Age'] = train_data['Age'].fillna(28)"
   ]
  },
  {
   "cell_type": "code",
   "execution_count": 10,
   "id": "8b96614d",
   "metadata": {
    "execution": {
     "iopub.execute_input": "2025-06-29T15:33:05.284273Z",
     "iopub.status.busy": "2025-06-29T15:33:05.283972Z",
     "iopub.status.idle": "2025-06-29T15:33:05.288975Z",
     "shell.execute_reply": "2025-06-29T15:33:05.288132Z"
    },
    "papermill": {
     "duration": 0.012648,
     "end_time": "2025-06-29T15:33:05.290420",
     "exception": false,
     "start_time": "2025-06-29T15:33:05.277772",
     "status": "completed"
    },
    "tags": []
   },
   "outputs": [],
   "source": [
    "# let's do the same for testing data..\n",
    "test_data['Age'] = test_data['Age'].fillna(28)"
   ]
  },
  {
   "cell_type": "code",
   "execution_count": 11,
   "id": "b8c93110",
   "metadata": {
    "execution": {
     "iopub.execute_input": "2025-06-29T15:33:05.302461Z",
     "iopub.status.busy": "2025-06-29T15:33:05.302205Z",
     "iopub.status.idle": "2025-06-29T15:33:05.311787Z",
     "shell.execute_reply": "2025-06-29T15:33:05.310972Z"
    },
    "papermill": {
     "duration": 0.017266,
     "end_time": "2025-06-29T15:33:05.313391",
     "exception": false,
     "start_time": "2025-06-29T15:33:05.296125",
     "status": "completed"
    },
    "tags": []
   },
   "outputs": [
    {
     "name": "stdout",
     "output_type": "stream",
     "text": [
      "<class 'pandas.core.frame.DataFrame'>\n",
      "Index: 418 entries, 892 to 1309\n",
      "Data columns (total 7 columns):\n",
      " #   Column    Non-Null Count  Dtype  \n",
      "---  ------    --------------  -----  \n",
      " 0   Pclass    418 non-null    int64  \n",
      " 1   Sex       418 non-null    object \n",
      " 2   Age       418 non-null    float64\n",
      " 3   SibSp     418 non-null    int64  \n",
      " 4   Parch     418 non-null    int64  \n",
      " 5   Fare      417 non-null    float64\n",
      " 6   Embarked  418 non-null    object \n",
      "dtypes: float64(2), int64(3), object(2)\n",
      "memory usage: 26.1+ KB\n"
     ]
    }
   ],
   "source": [
    "test_data.info()"
   ]
  },
  {
   "cell_type": "code",
   "execution_count": 12,
   "id": "2215efba",
   "metadata": {
    "execution": {
     "iopub.execute_input": "2025-06-29T15:33:05.326464Z",
     "iopub.status.busy": "2025-06-29T15:33:05.325449Z",
     "iopub.status.idle": "2025-06-29T15:33:05.331566Z",
     "shell.execute_reply": "2025-06-29T15:33:05.330954Z"
    },
    "papermill": {
     "duration": 0.013953,
     "end_time": "2025-06-29T15:33:05.333059",
     "exception": false,
     "start_time": "2025-06-29T15:33:05.319106",
     "status": "completed"
    },
    "tags": []
   },
   "outputs": [],
   "source": [
    "# now we only have missing values in the 'Embarked' column..\n",
    "# let's replace those missing values with the data's mode\n",
    "train_data['Embarked'] = train_data['Embarked'].fillna(train_data['Embarked'].mode()[0])"
   ]
  },
  {
   "cell_type": "code",
   "execution_count": 13,
   "id": "907e40bb",
   "metadata": {
    "execution": {
     "iopub.execute_input": "2025-06-29T15:33:05.345333Z",
     "iopub.status.busy": "2025-06-29T15:33:05.344999Z",
     "iopub.status.idle": "2025-06-29T15:33:05.349542Z",
     "shell.execute_reply": "2025-06-29T15:33:05.348829Z"
    },
    "papermill": {
     "duration": 0.012329,
     "end_time": "2025-06-29T15:33:05.350881",
     "exception": false,
     "start_time": "2025-06-29T15:33:05.338552",
     "status": "completed"
    },
    "tags": []
   },
   "outputs": [],
   "source": [
    "# same for testing data except for the median fare this time..\n",
    "test_data['Fare'] = test_data['Fare'].fillna(test_data['Fare'].median())"
   ]
  },
  {
   "cell_type": "markdown",
   "id": "44279b3f",
   "metadata": {
    "papermill": {
     "duration": 0.005039,
     "end_time": "2025-06-29T15:33:05.361317",
     "exception": false,
     "start_time": "2025-06-29T15:33:05.356278",
     "status": "completed"
    },
    "tags": []
   },
   "source": [
    "## Machine Learning"
   ]
  },
  {
   "cell_type": "code",
   "execution_count": 14,
   "id": "7f639562",
   "metadata": {
    "execution": {
     "iopub.execute_input": "2025-06-29T15:33:05.373901Z",
     "iopub.status.busy": "2025-06-29T15:33:05.372957Z",
     "iopub.status.idle": "2025-06-29T15:33:05.381077Z",
     "shell.execute_reply": "2025-06-29T15:33:05.380051Z"
    },
    "papermill": {
     "duration": 0.015897,
     "end_time": "2025-06-29T15:33:05.382598",
     "exception": false,
     "start_time": "2025-06-29T15:33:05.366701",
     "status": "completed"
    },
    "tags": []
   },
   "outputs": [
    {
     "name": "stderr",
     "output_type": "stream",
     "text": [
      "/tmp/ipykernel_13/724041593.py:2: FutureWarning: Downcasting behavior in `replace` is deprecated and will be removed in a future version. To retain the old behavior, explicitly call `result.infer_objects(copy=False)`. To opt-in to the future behavior, set `pd.set_option('future.no_silent_downcasting', True)`\n",
      "  train_data['Sex'] = train_data['Sex'].replace({'male':0,'female':1})\n",
      "/tmp/ipykernel_13/724041593.py:3: FutureWarning: Downcasting behavior in `replace` is deprecated and will be removed in a future version. To retain the old behavior, explicitly call `result.infer_objects(copy=False)`. To opt-in to the future behavior, set `pd.set_option('future.no_silent_downcasting', True)`\n",
      "  test_data['Sex'] = test_data['Sex'].replace({'male':0,'female':1})\n"
     ]
    }
   ],
   "source": [
    "# first of all, we need to change our categorical data into numerical values for our algorithm\n",
    "train_data['Sex'] = train_data['Sex'].replace({'male':0,'female':1})\n",
    "test_data['Sex'] = test_data['Sex'].replace({'male':0,'female':1})"
   ]
  },
  {
   "cell_type": "code",
   "execution_count": 15,
   "id": "3000638b",
   "metadata": {
    "execution": {
     "iopub.execute_input": "2025-06-29T15:33:05.394951Z",
     "iopub.status.busy": "2025-06-29T15:33:05.394554Z",
     "iopub.status.idle": "2025-06-29T15:33:05.402647Z",
     "shell.execute_reply": "2025-06-29T15:33:05.401731Z"
    },
    "papermill": {
     "duration": 0.015739,
     "end_time": "2025-06-29T15:33:05.404068",
     "exception": false,
     "start_time": "2025-06-29T15:33:05.388329",
     "status": "completed"
    },
    "tags": []
   },
   "outputs": [
    {
     "name": "stderr",
     "output_type": "stream",
     "text": [
      "/tmp/ipykernel_13/3368991092.py:1: FutureWarning: Downcasting behavior in `replace` is deprecated and will be removed in a future version. To retain the old behavior, explicitly call `result.infer_objects(copy=False)`. To opt-in to the future behavior, set `pd.set_option('future.no_silent_downcasting', True)`\n",
      "  train_data['Embarked'] = train_data['Embarked'].replace({'S':0,'C':1,'Q':2})\n",
      "/tmp/ipykernel_13/3368991092.py:2: FutureWarning: Downcasting behavior in `replace` is deprecated and will be removed in a future version. To retain the old behavior, explicitly call `result.infer_objects(copy=False)`. To opt-in to the future behavior, set `pd.set_option('future.no_silent_downcasting', True)`\n",
      "  test_data['Embarked'] = test_data['Embarked'].replace({'S':0,'C':1,'Q':2})\n"
     ]
    }
   ],
   "source": [
    "train_data['Embarked'] = train_data['Embarked'].replace({'S':0,'C':1,'Q':2})\n",
    "test_data['Embarked'] = test_data['Embarked'].replace({'S':0,'C':1,'Q':2})"
   ]
  },
  {
   "cell_type": "code",
   "execution_count": 16,
   "id": "ec00db1c",
   "metadata": {
    "execution": {
     "iopub.execute_input": "2025-06-29T15:33:05.416881Z",
     "iopub.status.busy": "2025-06-29T15:33:05.416022Z",
     "iopub.status.idle": "2025-06-29T15:33:05.420918Z",
     "shell.execute_reply": "2025-06-29T15:33:05.420205Z"
    },
    "papermill": {
     "duration": 0.012482,
     "end_time": "2025-06-29T15:33:05.422249",
     "exception": false,
     "start_time": "2025-06-29T15:33:05.409767",
     "status": "completed"
    },
    "tags": []
   },
   "outputs": [],
   "source": [
    "# First, we'll separate features & target variable\n",
    "X = train_data.iloc[:,1:]\n",
    "y = train_data.iloc[:,0]"
   ]
  },
  {
   "cell_type": "code",
   "execution_count": 17,
   "id": "38874b62",
   "metadata": {
    "execution": {
     "iopub.execute_input": "2025-06-29T15:33:05.434713Z",
     "iopub.status.busy": "2025-06-29T15:33:05.433991Z",
     "iopub.status.idle": "2025-06-29T15:33:05.684034Z",
     "shell.execute_reply": "2025-06-29T15:33:05.683114Z"
    },
    "papermill": {
     "duration": 0.257815,
     "end_time": "2025-06-29T15:33:05.685681",
     "exception": false,
     "start_time": "2025-06-29T15:33:05.427866",
     "status": "completed"
    },
    "tags": []
   },
   "outputs": [],
   "source": [
    "# Now, we'll split our data into two parts, one for testing and the other for validation\n",
    "from sklearn.model_selection import train_test_split\n",
    "X_train, X_val, y_train, y_val = train_test_split(X,y)"
   ]
  },
  {
   "cell_type": "code",
   "execution_count": 18,
   "id": "956423e8",
   "metadata": {
    "execution": {
     "iopub.execute_input": "2025-06-29T15:33:05.698590Z",
     "iopub.status.busy": "2025-06-29T15:33:05.697984Z",
     "iopub.status.idle": "2025-06-29T15:33:06.228058Z",
     "shell.execute_reply": "2025-06-29T15:33:06.227061Z"
    },
    "papermill": {
     "duration": 0.538153,
     "end_time": "2025-06-29T15:33:06.229675",
     "exception": false,
     "start_time": "2025-06-29T15:33:05.691522",
     "status": "completed"
    },
    "tags": []
   },
   "outputs": [],
   "source": [
    "# then, we'll define and fit our model, i.e. Random Forest Classifier\n",
    "from sklearn.ensemble import RandomForestClassifier\n",
    "model = RandomForestClassifier(max_leaf_nodes=20, random_state=1)\n",
    "model.fit(X_train, y_train)\n",
    "predictions = model.predict(X_val)"
   ]
  },
  {
   "cell_type": "code",
   "execution_count": 19,
   "id": "7b65e605",
   "metadata": {
    "execution": {
     "iopub.execute_input": "2025-06-29T15:33:06.243244Z",
     "iopub.status.busy": "2025-06-29T15:33:06.242300Z",
     "iopub.status.idle": "2025-06-29T15:33:06.250166Z",
     "shell.execute_reply": "2025-06-29T15:33:06.249232Z"
    },
    "papermill": {
     "duration": 0.016376,
     "end_time": "2025-06-29T15:33:06.251711",
     "exception": false,
     "start_time": "2025-06-29T15:33:06.235335",
     "status": "completed"
    },
    "tags": []
   },
   "outputs": [
    {
     "data": {
      "text/plain": [
       "0.8430493273542601"
      ]
     },
     "execution_count": 19,
     "metadata": {},
     "output_type": "execute_result"
    }
   ],
   "source": [
    "# we test out various max_leaf_nodes values to figure out a\n",
    "# range wherein the optimum leaf node value lies..\n",
    "from sklearn.metrics import accuracy_score\n",
    "score = accuracy_score(y_val,predictions)\n",
    "score"
   ]
  },
  {
   "cell_type": "code",
   "execution_count": 20,
   "id": "2d90dfd8",
   "metadata": {
    "execution": {
     "iopub.execute_input": "2025-06-29T15:33:06.264786Z",
     "iopub.status.busy": "2025-06-29T15:33:06.264456Z",
     "iopub.status.idle": "2025-06-29T15:33:06.269603Z",
     "shell.execute_reply": "2025-06-29T15:33:06.268897Z"
    },
    "papermill": {
     "duration": 0.013189,
     "end_time": "2025-06-29T15:33:06.271043",
     "exception": false,
     "start_time": "2025-06-29T15:33:06.257854",
     "status": "completed"
    },
    "tags": []
   },
   "outputs": [],
   "source": [
    "# Here we are defining a function to calculate the optimal leaf nodes for our model\n",
    "\n",
    "def opt_leaves(X_train,y_train,X_val,y_val):\n",
    "    optimum_leaves=0\n",
    "    score=0\n",
    "    for i in range(20,40):\n",
    "        temp_model = RandomForestClassifier(max_leaf_nodes=i, random_state=1)\n",
    "        temp_model.fit(X_train, y_train)\n",
    "        temp_predictions = temp_model.predict(X_val)\n",
    "        temp_score = accuracy_score(temp_predictions, y_val)\n",
    "        if temp_score > score:\n",
    "            score=temp_score\n",
    "            optimum_leaves=i\n",
    "    return \"Highest Score is {} , where the value max_leaf_nodes is {}\".format(score,optimum_leaves)\n",
    "        \n",
    "        "
   ]
  },
  {
   "cell_type": "code",
   "execution_count": 21,
   "id": "ab54b65c",
   "metadata": {
    "execution": {
     "iopub.execute_input": "2025-06-29T15:33:06.283455Z",
     "iopub.status.busy": "2025-06-29T15:33:06.283170Z",
     "iopub.status.idle": "2025-06-29T15:33:09.474361Z",
     "shell.execute_reply": "2025-06-29T15:33:09.473357Z"
    },
    "papermill": {
     "duration": 3.199181,
     "end_time": "2025-06-29T15:33:09.475891",
     "exception": false,
     "start_time": "2025-06-29T15:33:06.276710",
     "status": "completed"
    },
    "tags": []
   },
   "outputs": [
    {
     "data": {
      "text/plain": [
       "'Highest Score is 0.8430493273542601 , where the value max_leaf_nodes is 20'"
      ]
     },
     "execution_count": 21,
     "metadata": {},
     "output_type": "execute_result"
    }
   ],
   "source": [
    "opt_leaves(X_train,y_train,X_val,y_val)"
   ]
  },
  {
   "cell_type": "markdown",
   "id": "5b6d0e04",
   "metadata": {
    "papermill": {
     "duration": 0.00571,
     "end_time": "2025-06-29T15:33:09.488393",
     "exception": false,
     "start_time": "2025-06-29T15:33:09.482683",
     "status": "completed"
    },
    "tags": []
   },
   "source": [
    "## Predict the actual test data"
   ]
  },
  {
   "cell_type": "code",
   "execution_count": 22,
   "id": "c4bb4de9",
   "metadata": {
    "execution": {
     "iopub.execute_input": "2025-06-29T15:33:09.501619Z",
     "iopub.status.busy": "2025-06-29T15:33:09.500829Z",
     "iopub.status.idle": "2025-06-29T15:33:09.674691Z",
     "shell.execute_reply": "2025-06-29T15:33:09.673889Z"
    },
    "papermill": {
     "duration": 0.181776,
     "end_time": "2025-06-29T15:33:09.676208",
     "exception": false,
     "start_time": "2025-06-29T15:33:09.494432",
     "status": "completed"
    },
    "tags": []
   },
   "outputs": [
    {
     "data": {
      "text/plain": [
       "array([0, 0, 0, 0, 1, 0, 1, 0, 1, 0, 0, 0, 1, 0, 1, 1, 0, 0, 0, 0, 0, 0,\n",
       "       1, 0, 1, 0, 1, 0, 0, 0, 0, 0, 0, 0, 1, 0, 0, 0, 0, 0, 0, 0, 0, 1,\n",
       "       1, 0, 0, 0, 1, 1, 0, 0, 1, 1, 0, 0, 0, 0, 0, 1, 0, 0, 0, 1, 1, 1,\n",
       "       1, 0, 0, 1, 1, 0, 0, 0, 1, 0, 0, 1, 0, 1, 1, 0, 0, 0, 0, 0, 1, 0,\n",
       "       1, 1, 0, 0, 1, 0, 0, 0, 1, 0, 0, 0, 1, 0, 0, 0, 1, 0, 0, 0, 0, 0,\n",
       "       0, 1, 1, 1, 1, 0, 0, 1, 0, 1, 1, 0, 1, 0, 0, 1, 0, 1, 0, 0, 0, 0,\n",
       "       0, 0, 0, 0, 0, 0, 0, 0, 0, 1, 0, 0, 0, 0, 0, 0, 0, 0, 1, 0, 0, 1,\n",
       "       0, 0, 1, 1, 0, 1, 1, 1, 1, 0, 0, 0, 0, 0, 1, 0, 0, 0, 0, 0, 0, 1,\n",
       "       1, 0, 1, 1, 0, 0, 1, 0, 1, 0, 1, 0, 0, 0, 0, 0, 0, 0, 1, 0, 1, 0,\n",
       "       0, 0, 1, 1, 0, 1, 0, 0, 1, 0, 1, 0, 0, 0, 0, 1, 0, 0, 1, 0, 1, 0,\n",
       "       1, 0, 1, 0, 1, 1, 0, 1, 0, 0, 0, 1, 0, 0, 1, 0, 0, 0, 1, 1, 1, 1,\n",
       "       0, 0, 0, 0, 1, 0, 1, 1, 1, 0, 1, 0, 0, 0, 0, 0, 1, 0, 0, 0, 1, 1,\n",
       "       0, 0, 0, 0, 0, 0, 0, 0, 1, 1, 0, 1, 0, 0, 0, 0, 0, 1, 1, 1, 1, 0,\n",
       "       0, 0, 0, 0, 0, 0, 0, 0, 0, 0, 1, 0, 0, 0, 0, 0, 0, 0, 1, 1, 1, 1,\n",
       "       0, 0, 0, 0, 0, 0, 1, 1, 0, 0, 0, 0, 0, 0, 0, 0, 1, 0, 1, 0, 0, 0,\n",
       "       1, 0, 0, 1, 0, 0, 0, 0, 0, 0, 0, 0, 0, 1, 0, 1, 0, 0, 0, 1, 1, 0,\n",
       "       0, 0, 1, 0, 1, 0, 0, 1, 0, 1, 1, 0, 1, 0, 0, 0, 1, 0, 0, 1, 0, 0,\n",
       "       1, 1, 0, 0, 0, 0, 0, 0, 0, 0, 0, 1, 0, 0, 0, 0, 0, 1, 0, 0, 0, 1,\n",
       "       0, 1, 0, 0, 1, 0, 1, 0, 0, 0, 0, 0, 1, 1, 1, 1, 0, 0, 1, 0, 0, 0])"
      ]
     },
     "execution_count": 22,
     "metadata": {},
     "output_type": "execute_result"
    }
   ],
   "source": [
    "model = RandomForestClassifier(max_leaf_nodes=28, random_state=1)\n",
    "model.fit(X, y)\n",
    "final_predictions = model.predict(test_data)\n",
    "final_predictions"
   ]
  },
  {
   "cell_type": "code",
   "execution_count": 23,
   "id": "ba04a707",
   "metadata": {
    "execution": {
     "iopub.execute_input": "2025-06-29T15:33:09.689282Z",
     "iopub.status.busy": "2025-06-29T15:33:09.688720Z",
     "iopub.status.idle": "2025-06-29T15:33:09.698803Z",
     "shell.execute_reply": "2025-06-29T15:33:09.698156Z"
    },
    "papermill": {
     "duration": 0.017954,
     "end_time": "2025-06-29T15:33:09.700055",
     "exception": false,
     "start_time": "2025-06-29T15:33:09.682101",
     "status": "completed"
    },
    "tags": []
   },
   "outputs": [],
   "source": [
    "output = pd.DataFrame({'PassengerId':test_data.index,'Survived':final_predictions})\n",
    "output.to_csv('Titanic_submission2', index=False)"
   ]
  }
 ],
 "metadata": {
  "kaggle": {
   "accelerator": "none",
   "dataSources": [
    {
     "databundleVersionId": 26502,
     "sourceId": 3136,
     "sourceType": "competition"
    }
   ],
   "dockerImageVersionId": 31040,
   "isGpuEnabled": false,
   "isInternetEnabled": true,
   "language": "python",
   "sourceType": "notebook"
  },
  "kernelspec": {
   "display_name": "Python 3",
   "language": "python",
   "name": "python3"
  },
  "language_info": {
   "codemirror_mode": {
    "name": "ipython",
    "version": 3
   },
   "file_extension": ".py",
   "mimetype": "text/x-python",
   "name": "python",
   "nbconvert_exporter": "python",
   "pygments_lexer": "ipython3",
   "version": "3.11.11"
  },
  "papermill": {
   "default_parameters": {},
   "duration": 13.968945,
   "end_time": "2025-06-29T15:33:10.425164",
   "environment_variables": {},
   "exception": null,
   "input_path": "__notebook__.ipynb",
   "output_path": "__notebook__.ipynb",
   "parameters": {},
   "start_time": "2025-06-29T15:32:56.456219",
   "version": "2.6.0"
  }
 },
 "nbformat": 4,
 "nbformat_minor": 5
}
